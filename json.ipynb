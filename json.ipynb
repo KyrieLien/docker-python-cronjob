{
 "cells": [
  {
   "cell_type": "code",
   "execution_count": 55,
   "metadata": {},
   "outputs": [],
   "source": [
    "raw_dict = {\n",
    "    \"completions\": [\n",
    "        {\n",
    "            \"created_at\": 1612850273,\n",
    "            \"id\": 2001,\n",
    "            \"lead_time\": 2552.251,\n",
    "            \"result\": [\n",
    "                {\n",
    "                    \"from_name\": \"ner\",\n",
    "                    \"id\": \"IpAlj7cp63\",\n",
    "                    \"to_name\": \"text\",\n",
    "                    \"type\": \"hypertextlabels\",\n",
    "                    \"value\": {\n",
    "                        \"end\": \"/h1[1]/a[1]/text()[1]\",\n",
    "                        \"endOffset\": 24,\n",
    "                        \"htmllabels\": [\n",
    "                            \"Contract Title\"\n",
    "                        ],\n",
    "                        \"start\": \"/h1[1]/text()[1]\",\n",
    "                        \"startOffset\": 0,\n",
    "                        \"text\": \"Mutual Confidentiality and Non-Disclosure Agreement\"\n",
    "                    }\n",
    "                },\n",
    "                {\n",
    "                    \"from_name\": \"ner\",\n",
    "                    \"id\": \"GrK2W6QwCs\",\n",
    "                    \"to_name\": \"text\",\n",
    "                    \"type\": \"hypertextlabels\",\n",
    "                    \"value\": {\n",
    "                        \"end\": \"/p[2]/text()[1]\",\n",
    "                        \"endOffset\": 352,\n",
    "                        \"htmllabels\": [\n",
    "                            \"Commencement\"\n",
    "                        ],\n",
    "                        \"start\": \"/p[2]/text()[1]\",\n",
    "                        \"startOffset\": 0,\n",
    "                        \"text\": \"In order to protect certain confidential information which may be disclosed between them, NewNet Communication Technologies, LLC and the undersigned company (each referred to as a “Party” or collectively as the “Parties”) agree to the following terms and conditions (the “Agreement”) to cover disclosure of the Confidential Information described below:\"\n",
    "                    }\n",
    "                },\n",
    "                {\n",
    "                    \"from_name\": \"ner\",\n",
    "                    \"id\": \"gXVcsH6WEX\",\n",
    "                    \"to_name\": \"text\",\n",
    "                    \"type\": \"hypertextlabels\",\n",
    "                    \"value\": {\n",
    "                        \"end\": \"/p[21]/text()[2]\",\n",
    "                        \"endOffset\": 155,\n",
    "                        \"htmllabels\": [\n",
    "                            \"CI Definition\"\n",
    "                        ],\n",
    "                        \"start\": \"/p[21]/text()[2]\",\n",
    "                        \"startOffset\": 2,\n",
    "                        \"text\": \"Either Party may terminate this Agreement by giving the other Party written notice thereof at least thirty (30) days prior to the effective date thereof.\"\n",
    "                    }\n",
    "                },\n",
    "                {\n",
    "                    \"from_name\": \"ner\",\n",
    "                    \"id\": \"mNB7O1NnNG\",\n",
    "                    \"to_name\": \"text\",\n",
    "                    \"type\": \"hypertextlabels\",\n",
    "                    \"value\": {\n",
    "                        \"end\": \"/p[21]/text()[3]\",\n",
    "                        \"endOffset\": 125,\n",
    "                        \"htmllabels\": [\n",
    "                            \"Survival\"\n",
    "                        ],\n",
    "                        \"start\": \"/p[21]/text()[3]\",\n",
    "                        \"startOffset\": 1,\n",
    "                        \"text\": \"However, the obligations of this Agreement shall survive termination for the three (3) year period described in paragraph 3.\"\n",
    "                    }\n",
    "                },\n",
    "                {\n",
    "                    \"from_name\": \"ner\",\n",
    "                    \"id\": \"U4eD_TQ614\",\n",
    "                    \"to_name\": \"text\",\n",
    "                    \"type\": \"hypertextlabels\",\n",
    "                    \"value\": {\n",
    "                        \"end\": \"/p[24]/text()[2]\",\n",
    "                        \"endOffset\": 271,\n",
    "                        \"htmllabels\": [\n",
    "                            \"Assignment and Succssor\"\n",
    "                        ],\n",
    "                        \"start\": \"/p[24]/text()[2]\",\n",
    "                        \"startOffset\": 3,\n",
    "                        \"text\": \"Neither Party may delegate its obligations hereunder or assign its rights as a Recipient without the prior written consent of the other Party, and any purported assignment or delegation in violation of this Agreement will be void and deemed a breach of this Agreement.\"\n",
    "                    }\n",
    "                },\n",
    "                {\n",
    "                    \"from_name\": \"ner\",\n",
    "                    \"id\": \"BwoMq7Bjp3\",\n",
    "                    \"to_name\": \"text\",\n",
    "                    \"type\": \"hypertextlabels\",\n",
    "                    \"value\": {\n",
    "                        \"end\": \"/p[25]/text()[2]\",\n",
    "                        \"endOffset\": 386,\n",
    "                        \"htmllabels\": [\n",
    "                            \"Entire Agreement\"\n",
    "                        ],\n",
    "                        \"start\": \"/p[25]/text()[2]\",\n",
    "                        \"startOffset\": 0,\n",
    "                        \"text\": \"Except by a specific written instrument duly executed by both Paties, this Agreement sets forth the entire understanding of the Parties with respect to the subject matter hereof; incorporates and merges any and all previous agreements, understandings, and communications (oral or written) with respect to the subject matter of this Agreement and may not be modified, amended or waived. \"\n",
    "                    }\n",
    "                }\n",
    "            ]\n",
    "        }\n",
    "    ],\n",
    "    \"data\": {\n",
    "        \"filename\": \"1qpqQsbhhUq.html\",\n",
    "        \"text\": \"<html> html_content </html>\"\n",
    "    },\n",
    "    \"id\": 23\n",
    "}"
   ]
  },
  {
   "cell_type": "code",
   "execution_count": 6,
   "metadata": {},
   "outputs": [
    {
     "name": "stdout",
     "output_type": "stream",
     "text": [
      "{'from_name': 'ner', 'id': 'IpAlj7cp63', 'to_name': 'text', 'type': 'hypertextlabels', 'value': {'end': '/h1[1]/a[1]/text()[1]', 'endOffset': 24, 'htmllabels': ['Contract Title'], 'start': '/h1[1]/text()[1]', 'startOffset': 0, 'text': 'Mutual Confidentiality and Non-Disclosure Agreement'}}\n",
      "\n",
      "{'from_name': 'ner', 'id': 'GrK2W6QwCs', 'to_name': 'text', 'type': 'hypertextlabels', 'value': {'end': '/p[2]/text()[1]', 'endOffset': 352, 'htmllabels': ['Commencement'], 'start': '/p[2]/text()[1]', 'startOffset': 0, 'text': 'In order to protect certain confidential information which may be disclosed between them, NewNet Communication Technologies, LLC and the undersigned company (each referred to as a “Party” or collectively as the “Parties”) agree to the following terms and conditions (the “Agreement”) to cover disclosure of the Confidential Information described below:'}}\n",
      "\n",
      "{'from_name': 'ner', 'id': 'gXVcsH6WEX', 'to_name': 'text', 'type': 'hypertextlabels', 'value': {'end': '/p[21]/text()[2]', 'endOffset': 155, 'htmllabels': ['CI Definition'], 'start': '/p[21]/text()[2]', 'startOffset': 2, 'text': 'Either Party may terminate this Agreement by giving the other Party written notice thereof at least thirty (30) days prior to the effective date thereof.'}}\n",
      "\n",
      "{'from_name': 'ner', 'id': 'mNB7O1NnNG', 'to_name': 'text', 'type': 'hypertextlabels', 'value': {'end': '/p[21]/text()[3]', 'endOffset': 125, 'htmllabels': ['Survival'], 'start': '/p[21]/text()[3]', 'startOffset': 1, 'text': 'However, the obligations of this Agreement shall survive termination for the three (3) year period described in paragraph 3.'}}\n",
      "\n",
      "{'from_name': 'ner', 'id': 'U4eD_TQ614', 'to_name': 'text', 'type': 'hypertextlabels', 'value': {'end': '/p[24]/text()[2]', 'endOffset': 271, 'htmllabels': ['Assignment and Succssor'], 'start': '/p[24]/text()[2]', 'startOffset': 3, 'text': 'Neither Party may delegate its obligations hereunder or assign its rights as a Recipient without the prior written consent of the other Party, and any purported assignment or delegation in violation of this Agreement will be void and deemed a breach of this Agreement.'}}\n",
      "\n",
      "{'from_name': 'ner', 'id': 'BwoMq7Bjp3', 'to_name': 'text', 'type': 'hypertextlabels', 'value': {'end': '/p[25]/text()[2]', 'endOffset': 386, 'htmllabels': ['Entire Agreement'], 'start': '/p[25]/text()[2]', 'startOffset': 0, 'text': 'Except by a specific written instrument duly executed by both Paties, this Agreement sets forth the entire understanding of the Parties with respect to the subject matter hereof; incorporates and merges any and all previous agreements, understandings, and communications (oral or written) with respect to the subject matter of this Agreement and may not be modified, amended or waived. '}}\n",
      "\n"
     ]
    }
   ],
   "source": [
    "for item in raw_dict['completions'][0]['result']:\n",
    "    out = {\n",
    "        \"label\": item['value'],\n",
    "        \"sentence\": \"Mutual Confidentiality and Non-Disclosure Agreement\",\n",
    "        \"contract_id\": \"1qpqQsbhhUq\"\n",
    "    }\n",
    "    print()"
   ]
  },
  {
   "cell_type": "code",
   "execution_count": null,
   "metadata": {},
   "outputs": [],
   "source": [
    "{\n",
    "    \"label\": \"Contract Title\",\n",
    "    \"sentence\": \"Mutual Confidentiality and Non-Disclosure Agreement\",\n",
    "    \"contract_id\": \"1qpqQsbhhUq\"\n",
    "}"
   ]
  },
  {
   "cell_type": "code",
   "execution_count": 71,
   "metadata": {},
   "outputs": [],
   "source": [
    "import json\n",
    "y1= []\n",
    "for item in raw_dict['completions'][0]['result']:\n",
    "#     print(item['value']['htmllabels'][0])\n",
    "#     print(item['value']['text'])\n",
    "#     print(obj['data']['filename'].split('.')[0])\n",
    "    out = {\n",
    "        \"label\": item['value']['htmllabels'][0],\n",
    "        \"sentence\": item['value']['text'],\n",
    "        \"contract_id\": obj['data']['filename'].split('.')[0]\n",
    "    }\n",
    "    y = json.dumps(out)\n",
    "    y1.append(y)\n"
   ]
  },
  {
   "cell_type": "code",
   "execution_count": 73,
   "metadata": {},
   "outputs": [],
   "source": [
    "with open(\"output.json\", \"w\") as outfile: \n",
    "    json.dump(y1, outfile)\n"
   ]
  },
  {
   "cell_type": "code",
   "execution_count": 72,
   "metadata": {},
   "outputs": [
    {
     "data": {
      "text/plain": [
       "['{\"label\": \"Contract Title\", \"sentence\": \"Mutual Confidentiality and Non-Disclosure Agreement\", \"contract_id\": \"1qpqQsbhhUq\"}',\n",
       " '{\"label\": \"Commencement\", \"sentence\": \"In order to protect certain confidential information which may be disclosed between them, NewNet Communication Technologies, LLC and the undersigned company (each referred to as a \\\\u201cParty\\\\u201d or collectively as the \\\\u201cParties\\\\u201d) agree to the following terms and conditions (the \\\\u201cAgreement\\\\u201d) to cover disclosure of the Confidential Information described below:\", \"contract_id\": \"1qpqQsbhhUq\"}',\n",
       " '{\"label\": \"CI Definition\", \"sentence\": \"Either Party may terminate this Agreement by giving the other Party written notice thereof at least thirty (30) days prior to the effective date thereof.\", \"contract_id\": \"1qpqQsbhhUq\"}',\n",
       " '{\"label\": \"Survival\", \"sentence\": \"However, the obligations of this Agreement shall survive termination for the three (3) year period described in paragraph 3.\", \"contract_id\": \"1qpqQsbhhUq\"}',\n",
       " '{\"label\": \"Assignment and Succssor\", \"sentence\": \"Neither Party may delegate its obligations hereunder or assign its rights as a Recipient without the prior written consent of the other Party, and any purported assignment or delegation in violation of this Agreement will be void and deemed a breach of this Agreement.\", \"contract_id\": \"1qpqQsbhhUq\"}',\n",
       " '{\"label\": \"Entire Agreement\", \"sentence\": \"Except by a specific written instrument duly executed by both Paties, this Agreement sets forth the entire understanding of the Parties with respect to the subject matter hereof; incorporates and merges any and all previous agreements, understandings, and communications (oral or written) with respect to the subject matter of this Agreement and may not be modified, amended or waived. \", \"contract_id\": \"1qpqQsbhhUq\"}']"
      ]
     },
     "execution_count": 72,
     "metadata": {},
     "output_type": "execute_result"
    }
   ],
   "source": [
    "y1"
   ]
  },
  {
   "cell_type": "code",
   "execution_count": 74,
   "metadata": {},
   "outputs": [
    {
     "ename": "KeyboardInterrupt",
     "evalue": "",
     "output_type": "error",
     "traceback": [
      "\u001b[0;31m---------------------------------------------------------------------------\u001b[0m",
      "\u001b[0;31mKeyboardInterrupt\u001b[0m                         Traceback (most recent call last)",
      "\u001b[0;32m<ipython-input-74-28b82110a9dc>\u001b[0m in \u001b[0;36m<module>\u001b[0;34m\u001b[0m\n\u001b[1;32m      1\u001b[0m \u001b[0;32mimport\u001b[0m \u001b[0mrequests\u001b[0m\u001b[0;34m\u001b[0m\u001b[0;34m\u001b[0m\u001b[0m\n\u001b[0;32m----> 2\u001b[0;31m \u001b[0mresponse\u001b[0m \u001b[0;34m=\u001b[0m \u001b[0mrequests\u001b[0m\u001b[0;34m.\u001b[0m\u001b[0mget\u001b[0m\u001b[0;34m(\u001b[0m\u001b[0;34m\"https://www.dcard.tw/service/api/v2/forums/apple/posts\"\u001b[0m\u001b[0;34m)\u001b[0m\u001b[0;34m\u001b[0m\u001b[0;34m\u001b[0m\u001b[0m\n\u001b[0m\u001b[1;32m      3\u001b[0m \u001b[0mprint\u001b[0m\u001b[0;34m(\u001b[0m\u001b[0mresponse\u001b[0m\u001b[0;34m.\u001b[0m\u001b[0mstatus_code\u001b[0m\u001b[0;34m)\u001b[0m\u001b[0;34m\u001b[0m\u001b[0;34m\u001b[0m\u001b[0m\n",
      "\u001b[0;32m/usr/local/lib/python3.6/dist-packages/requests/api.py\u001b[0m in \u001b[0;36mget\u001b[0;34m(url, params, **kwargs)\u001b[0m\n\u001b[1;32m     74\u001b[0m \u001b[0;34m\u001b[0m\u001b[0m\n\u001b[1;32m     75\u001b[0m     \u001b[0mkwargs\u001b[0m\u001b[0;34m.\u001b[0m\u001b[0msetdefault\u001b[0m\u001b[0;34m(\u001b[0m\u001b[0;34m'allow_redirects'\u001b[0m\u001b[0;34m,\u001b[0m \u001b[0;32mTrue\u001b[0m\u001b[0;34m)\u001b[0m\u001b[0;34m\u001b[0m\u001b[0;34m\u001b[0m\u001b[0m\n\u001b[0;32m---> 76\u001b[0;31m     \u001b[0;32mreturn\u001b[0m \u001b[0mrequest\u001b[0m\u001b[0;34m(\u001b[0m\u001b[0;34m'get'\u001b[0m\u001b[0;34m,\u001b[0m \u001b[0murl\u001b[0m\u001b[0;34m,\u001b[0m \u001b[0mparams\u001b[0m\u001b[0;34m=\u001b[0m\u001b[0mparams\u001b[0m\u001b[0;34m,\u001b[0m \u001b[0;34m**\u001b[0m\u001b[0mkwargs\u001b[0m\u001b[0;34m)\u001b[0m\u001b[0;34m\u001b[0m\u001b[0;34m\u001b[0m\u001b[0m\n\u001b[0m\u001b[1;32m     77\u001b[0m \u001b[0;34m\u001b[0m\u001b[0m\n\u001b[1;32m     78\u001b[0m \u001b[0;34m\u001b[0m\u001b[0m\n",
      "\u001b[0;32m/usr/local/lib/python3.6/dist-packages/requests/api.py\u001b[0m in \u001b[0;36mrequest\u001b[0;34m(method, url, **kwargs)\u001b[0m\n\u001b[1;32m     59\u001b[0m     \u001b[0;31m# cases, and look like a memory leak in others.\u001b[0m\u001b[0;34m\u001b[0m\u001b[0;34m\u001b[0m\u001b[0;34m\u001b[0m\u001b[0m\n\u001b[1;32m     60\u001b[0m     \u001b[0;32mwith\u001b[0m \u001b[0msessions\u001b[0m\u001b[0;34m.\u001b[0m\u001b[0mSession\u001b[0m\u001b[0;34m(\u001b[0m\u001b[0;34m)\u001b[0m \u001b[0;32mas\u001b[0m \u001b[0msession\u001b[0m\u001b[0;34m:\u001b[0m\u001b[0;34m\u001b[0m\u001b[0;34m\u001b[0m\u001b[0m\n\u001b[0;32m---> 61\u001b[0;31m         \u001b[0;32mreturn\u001b[0m \u001b[0msession\u001b[0m\u001b[0;34m.\u001b[0m\u001b[0mrequest\u001b[0m\u001b[0;34m(\u001b[0m\u001b[0mmethod\u001b[0m\u001b[0;34m=\u001b[0m\u001b[0mmethod\u001b[0m\u001b[0;34m,\u001b[0m \u001b[0murl\u001b[0m\u001b[0;34m=\u001b[0m\u001b[0murl\u001b[0m\u001b[0;34m,\u001b[0m \u001b[0;34m**\u001b[0m\u001b[0mkwargs\u001b[0m\u001b[0;34m)\u001b[0m\u001b[0;34m\u001b[0m\u001b[0;34m\u001b[0m\u001b[0m\n\u001b[0m\u001b[1;32m     62\u001b[0m \u001b[0;34m\u001b[0m\u001b[0m\n\u001b[1;32m     63\u001b[0m \u001b[0;34m\u001b[0m\u001b[0m\n",
      "\u001b[0;32m/usr/local/lib/python3.6/dist-packages/requests/sessions.py\u001b[0m in \u001b[0;36mrequest\u001b[0;34m(self, method, url, params, data, headers, cookies, files, auth, timeout, allow_redirects, proxies, hooks, stream, verify, cert, json)\u001b[0m\n\u001b[1;32m    528\u001b[0m         }\n\u001b[1;32m    529\u001b[0m         \u001b[0msend_kwargs\u001b[0m\u001b[0;34m.\u001b[0m\u001b[0mupdate\u001b[0m\u001b[0;34m(\u001b[0m\u001b[0msettings\u001b[0m\u001b[0;34m)\u001b[0m\u001b[0;34m\u001b[0m\u001b[0;34m\u001b[0m\u001b[0m\n\u001b[0;32m--> 530\u001b[0;31m         \u001b[0mresp\u001b[0m \u001b[0;34m=\u001b[0m \u001b[0mself\u001b[0m\u001b[0;34m.\u001b[0m\u001b[0msend\u001b[0m\u001b[0;34m(\u001b[0m\u001b[0mprep\u001b[0m\u001b[0;34m,\u001b[0m \u001b[0;34m**\u001b[0m\u001b[0msend_kwargs\u001b[0m\u001b[0;34m)\u001b[0m\u001b[0;34m\u001b[0m\u001b[0;34m\u001b[0m\u001b[0m\n\u001b[0m\u001b[1;32m    531\u001b[0m \u001b[0;34m\u001b[0m\u001b[0m\n\u001b[1;32m    532\u001b[0m         \u001b[0;32mreturn\u001b[0m \u001b[0mresp\u001b[0m\u001b[0;34m\u001b[0m\u001b[0;34m\u001b[0m\u001b[0m\n",
      "\u001b[0;32m/usr/local/lib/python3.6/dist-packages/requests/sessions.py\u001b[0m in \u001b[0;36msend\u001b[0;34m(self, request, **kwargs)\u001b[0m\n\u001b[1;32m    641\u001b[0m \u001b[0;34m\u001b[0m\u001b[0m\n\u001b[1;32m    642\u001b[0m         \u001b[0;31m# Send the request\u001b[0m\u001b[0;34m\u001b[0m\u001b[0;34m\u001b[0m\u001b[0;34m\u001b[0m\u001b[0m\n\u001b[0;32m--> 643\u001b[0;31m         \u001b[0mr\u001b[0m \u001b[0;34m=\u001b[0m \u001b[0madapter\u001b[0m\u001b[0;34m.\u001b[0m\u001b[0msend\u001b[0m\u001b[0;34m(\u001b[0m\u001b[0mrequest\u001b[0m\u001b[0;34m,\u001b[0m \u001b[0;34m**\u001b[0m\u001b[0mkwargs\u001b[0m\u001b[0;34m)\u001b[0m\u001b[0;34m\u001b[0m\u001b[0;34m\u001b[0m\u001b[0m\n\u001b[0m\u001b[1;32m    644\u001b[0m \u001b[0;34m\u001b[0m\u001b[0m\n\u001b[1;32m    645\u001b[0m         \u001b[0;31m# Total elapsed time of the request (approximately)\u001b[0m\u001b[0;34m\u001b[0m\u001b[0;34m\u001b[0m\u001b[0;34m\u001b[0m\u001b[0m\n",
      "\u001b[0;32m/usr/local/lib/python3.6/dist-packages/requests/adapters.py\u001b[0m in \u001b[0;36msend\u001b[0;34m(self, request, stream, timeout, verify, cert, proxies)\u001b[0m\n\u001b[1;32m    447\u001b[0m                     \u001b[0mdecode_content\u001b[0m\u001b[0;34m=\u001b[0m\u001b[0;32mFalse\u001b[0m\u001b[0;34m,\u001b[0m\u001b[0;34m\u001b[0m\u001b[0;34m\u001b[0m\u001b[0m\n\u001b[1;32m    448\u001b[0m                     \u001b[0mretries\u001b[0m\u001b[0;34m=\u001b[0m\u001b[0mself\u001b[0m\u001b[0;34m.\u001b[0m\u001b[0mmax_retries\u001b[0m\u001b[0;34m,\u001b[0m\u001b[0;34m\u001b[0m\u001b[0;34m\u001b[0m\u001b[0m\n\u001b[0;32m--> 449\u001b[0;31m                     \u001b[0mtimeout\u001b[0m\u001b[0;34m=\u001b[0m\u001b[0mtimeout\u001b[0m\u001b[0;34m\u001b[0m\u001b[0;34m\u001b[0m\u001b[0m\n\u001b[0m\u001b[1;32m    450\u001b[0m                 )\n\u001b[1;32m    451\u001b[0m \u001b[0;34m\u001b[0m\u001b[0m\n",
      "\u001b[0;32m/usr/local/lib/python3.6/dist-packages/urllib3/connectionpool.py\u001b[0m in \u001b[0;36murlopen\u001b[0;34m(self, method, url, body, headers, retries, redirect, assert_same_host, timeout, pool_timeout, release_conn, chunked, body_pos, **response_kw)\u001b[0m\n\u001b[1;32m    675\u001b[0m                 \u001b[0mbody\u001b[0m\u001b[0;34m=\u001b[0m\u001b[0mbody\u001b[0m\u001b[0;34m,\u001b[0m\u001b[0;34m\u001b[0m\u001b[0;34m\u001b[0m\u001b[0m\n\u001b[1;32m    676\u001b[0m                 \u001b[0mheaders\u001b[0m\u001b[0;34m=\u001b[0m\u001b[0mheaders\u001b[0m\u001b[0;34m,\u001b[0m\u001b[0;34m\u001b[0m\u001b[0;34m\u001b[0m\u001b[0m\n\u001b[0;32m--> 677\u001b[0;31m                 \u001b[0mchunked\u001b[0m\u001b[0;34m=\u001b[0m\u001b[0mchunked\u001b[0m\u001b[0;34m,\u001b[0m\u001b[0;34m\u001b[0m\u001b[0;34m\u001b[0m\u001b[0m\n\u001b[0m\u001b[1;32m    678\u001b[0m             )\n\u001b[1;32m    679\u001b[0m \u001b[0;34m\u001b[0m\u001b[0m\n",
      "\u001b[0;32m/usr/local/lib/python3.6/dist-packages/urllib3/connectionpool.py\u001b[0m in \u001b[0;36m_make_request\u001b[0;34m(self, conn, method, url, timeout, chunked, **httplib_request_kw)\u001b[0m\n\u001b[1;32m    379\u001b[0m         \u001b[0;31m# Trigger any extra validation we need to do.\u001b[0m\u001b[0;34m\u001b[0m\u001b[0;34m\u001b[0m\u001b[0;34m\u001b[0m\u001b[0m\n\u001b[1;32m    380\u001b[0m         \u001b[0;32mtry\u001b[0m\u001b[0;34m:\u001b[0m\u001b[0;34m\u001b[0m\u001b[0;34m\u001b[0m\u001b[0m\n\u001b[0;32m--> 381\u001b[0;31m             \u001b[0mself\u001b[0m\u001b[0;34m.\u001b[0m\u001b[0m_validate_conn\u001b[0m\u001b[0;34m(\u001b[0m\u001b[0mconn\u001b[0m\u001b[0;34m)\u001b[0m\u001b[0;34m\u001b[0m\u001b[0;34m\u001b[0m\u001b[0m\n\u001b[0m\u001b[1;32m    382\u001b[0m         \u001b[0;32mexcept\u001b[0m \u001b[0;34m(\u001b[0m\u001b[0mSocketTimeout\u001b[0m\u001b[0;34m,\u001b[0m \u001b[0mBaseSSLError\u001b[0m\u001b[0;34m)\u001b[0m \u001b[0;32mas\u001b[0m \u001b[0me\u001b[0m\u001b[0;34m:\u001b[0m\u001b[0;34m\u001b[0m\u001b[0;34m\u001b[0m\u001b[0m\n\u001b[1;32m    383\u001b[0m             \u001b[0;31m# Py2 raises this as a BaseSSLError, Py3 raises it as socket timeout.\u001b[0m\u001b[0;34m\u001b[0m\u001b[0;34m\u001b[0m\u001b[0;34m\u001b[0m\u001b[0m\n",
      "\u001b[0;32m/usr/local/lib/python3.6/dist-packages/urllib3/connectionpool.py\u001b[0m in \u001b[0;36m_validate_conn\u001b[0;34m(self, conn)\u001b[0m\n\u001b[1;32m    976\u001b[0m         \u001b[0;31m# Force connect early to allow us to validate the connection.\u001b[0m\u001b[0;34m\u001b[0m\u001b[0;34m\u001b[0m\u001b[0;34m\u001b[0m\u001b[0m\n\u001b[1;32m    977\u001b[0m         \u001b[0;32mif\u001b[0m \u001b[0;32mnot\u001b[0m \u001b[0mgetattr\u001b[0m\u001b[0;34m(\u001b[0m\u001b[0mconn\u001b[0m\u001b[0;34m,\u001b[0m \u001b[0;34m\"sock\"\u001b[0m\u001b[0;34m,\u001b[0m \u001b[0;32mNone\u001b[0m\u001b[0;34m)\u001b[0m\u001b[0;34m:\u001b[0m  \u001b[0;31m# AppEngine might not have  `.sock`\u001b[0m\u001b[0;34m\u001b[0m\u001b[0;34m\u001b[0m\u001b[0m\n\u001b[0;32m--> 978\u001b[0;31m             \u001b[0mconn\u001b[0m\u001b[0;34m.\u001b[0m\u001b[0mconnect\u001b[0m\u001b[0;34m(\u001b[0m\u001b[0;34m)\u001b[0m\u001b[0;34m\u001b[0m\u001b[0;34m\u001b[0m\u001b[0m\n\u001b[0m\u001b[1;32m    979\u001b[0m \u001b[0;34m\u001b[0m\u001b[0m\n\u001b[1;32m    980\u001b[0m         \u001b[0;32mif\u001b[0m \u001b[0;32mnot\u001b[0m \u001b[0mconn\u001b[0m\u001b[0;34m.\u001b[0m\u001b[0mis_verified\u001b[0m\u001b[0;34m:\u001b[0m\u001b[0;34m\u001b[0m\u001b[0;34m\u001b[0m\u001b[0m\n",
      "\u001b[0;32m/usr/local/lib/python3.6/dist-packages/urllib3/connection.py\u001b[0m in \u001b[0;36mconnect\u001b[0;34m(self)\u001b[0m\n\u001b[1;32m    307\u001b[0m     \u001b[0;32mdef\u001b[0m \u001b[0mconnect\u001b[0m\u001b[0;34m(\u001b[0m\u001b[0mself\u001b[0m\u001b[0;34m)\u001b[0m\u001b[0;34m:\u001b[0m\u001b[0;34m\u001b[0m\u001b[0;34m\u001b[0m\u001b[0m\n\u001b[1;32m    308\u001b[0m         \u001b[0;31m# Add certificate verification\u001b[0m\u001b[0;34m\u001b[0m\u001b[0;34m\u001b[0m\u001b[0;34m\u001b[0m\u001b[0m\n\u001b[0;32m--> 309\u001b[0;31m         \u001b[0mconn\u001b[0m \u001b[0;34m=\u001b[0m \u001b[0mself\u001b[0m\u001b[0;34m.\u001b[0m\u001b[0m_new_conn\u001b[0m\u001b[0;34m(\u001b[0m\u001b[0;34m)\u001b[0m\u001b[0;34m\u001b[0m\u001b[0;34m\u001b[0m\u001b[0m\n\u001b[0m\u001b[1;32m    310\u001b[0m         \u001b[0mhostname\u001b[0m \u001b[0;34m=\u001b[0m \u001b[0mself\u001b[0m\u001b[0;34m.\u001b[0m\u001b[0mhost\u001b[0m\u001b[0;34m\u001b[0m\u001b[0;34m\u001b[0m\u001b[0m\n\u001b[1;32m    311\u001b[0m \u001b[0;34m\u001b[0m\u001b[0m\n",
      "\u001b[0;32m/usr/local/lib/python3.6/dist-packages/urllib3/connection.py\u001b[0m in \u001b[0;36m_new_conn\u001b[0;34m(self)\u001b[0m\n\u001b[1;32m    158\u001b[0m         \u001b[0;32mtry\u001b[0m\u001b[0;34m:\u001b[0m\u001b[0;34m\u001b[0m\u001b[0;34m\u001b[0m\u001b[0m\n\u001b[1;32m    159\u001b[0m             conn = connection.create_connection(\n\u001b[0;32m--> 160\u001b[0;31m                 \u001b[0;34m(\u001b[0m\u001b[0mself\u001b[0m\u001b[0;34m.\u001b[0m\u001b[0m_dns_host\u001b[0m\u001b[0;34m,\u001b[0m \u001b[0mself\u001b[0m\u001b[0;34m.\u001b[0m\u001b[0mport\u001b[0m\u001b[0;34m)\u001b[0m\u001b[0;34m,\u001b[0m \u001b[0mself\u001b[0m\u001b[0;34m.\u001b[0m\u001b[0mtimeout\u001b[0m\u001b[0;34m,\u001b[0m \u001b[0;34m**\u001b[0m\u001b[0mextra_kw\u001b[0m\u001b[0;34m\u001b[0m\u001b[0;34m\u001b[0m\u001b[0m\n\u001b[0m\u001b[1;32m    161\u001b[0m             )\n\u001b[1;32m    162\u001b[0m \u001b[0;34m\u001b[0m\u001b[0m\n",
      "\u001b[0;32m/usr/local/lib/python3.6/dist-packages/urllib3/util/connection.py\u001b[0m in \u001b[0;36mcreate_connection\u001b[0;34m(address, timeout, source_address, socket_options)\u001b[0m\n\u001b[1;32m     72\u001b[0m             \u001b[0;32mif\u001b[0m \u001b[0msource_address\u001b[0m\u001b[0;34m:\u001b[0m\u001b[0;34m\u001b[0m\u001b[0;34m\u001b[0m\u001b[0m\n\u001b[1;32m     73\u001b[0m                 \u001b[0msock\u001b[0m\u001b[0;34m.\u001b[0m\u001b[0mbind\u001b[0m\u001b[0;34m(\u001b[0m\u001b[0msource_address\u001b[0m\u001b[0;34m)\u001b[0m\u001b[0;34m\u001b[0m\u001b[0;34m\u001b[0m\u001b[0m\n\u001b[0;32m---> 74\u001b[0;31m             \u001b[0msock\u001b[0m\u001b[0;34m.\u001b[0m\u001b[0mconnect\u001b[0m\u001b[0;34m(\u001b[0m\u001b[0msa\u001b[0m\u001b[0;34m)\u001b[0m\u001b[0;34m\u001b[0m\u001b[0;34m\u001b[0m\u001b[0m\n\u001b[0m\u001b[1;32m     75\u001b[0m             \u001b[0;32mreturn\u001b[0m \u001b[0msock\u001b[0m\u001b[0;34m\u001b[0m\u001b[0;34m\u001b[0m\u001b[0m\n\u001b[1;32m     76\u001b[0m \u001b[0;34m\u001b[0m\u001b[0m\n",
      "\u001b[0;31mKeyboardInterrupt\u001b[0m: "
     ]
    }
   ],
   "source": [
    "import requests\n",
    "response = requests.get(\"https://www.dcard.tw/service/api/v2/forums/apple/posts\")\n",
    "print(response.status_code)\n"
   ]
  },
  {
   "cell_type": "code",
   "execution_count": null,
   "metadata": {},
   "outputs": [],
   "source": []
  }
 ],
 "metadata": {
  "kernelspec": {
   "display_name": "Python 3",
   "language": "python",
   "name": "python3"
  },
  "language_info": {
   "codemirror_mode": {
    "name": "ipython",
    "version": 3
   },
   "file_extension": ".py",
   "mimetype": "text/x-python",
   "name": "python",
   "nbconvert_exporter": "python",
   "pygments_lexer": "ipython3",
   "version": "3.6.9"
  }
 },
 "nbformat": 4,
 "nbformat_minor": 4
}
