{
 "metadata": {
  "language_info": {
   "codemirror_mode": {
    "name": "ipython",
    "version": 3
   },
   "file_extension": ".py",
   "mimetype": "text/x-python",
   "name": "python",
   "nbconvert_exporter": "python",
   "pygments_lexer": "ipython3",
   "version": "3.6.4"
  },
  "orig_nbformat": 2,
  "kernelspec": {
   "name": "python364jvsc74a57bd0a46f283ce344a510ed084d7abe80f7f7886ad37548d754407245ba2054b306ee",
   "display_name": "Python 3.6.4 64-bit"
  },
  "metadata": {
   "interpreter": {
    "hash": "a46f283ce344a510ed084d7abe80f7f7886ad37548d754407245ba2054b306ee"
   }
  }
 },
 "nbformat": 4,
 "nbformat_minor": 2,
 "cells": [
  {
   "cell_type": "code",
   "execution_count": null,
   "metadata": {},
   "outputs": [],
   "source": [
    "import requests\n",
    "response = requests.get(\"https://www.dcard.tw/service/api/v2/forums/apple/posts\")\n",
    "print(response.status_code)"
   ]
  },
  {
   "cell_type": "code",
   "execution_count": 1,
   "metadata": {},
   "outputs": [],
   "source": [
    "import json\n",
    "# Opening JSON file\n",
    "f = open(r\"C:\\Users\\yihan\\Desktop\\posts.json\", encoding=\"utf-8\")\n",
    "   \n",
    "# returns JSON object as \n",
    "# a dictionary\n",
    "data = json.load(f)"
   ]
  },
  {
   "cell_type": "code",
   "execution_count": 3,
   "metadata": {},
   "outputs": [
    {
     "output_type": "execute_result",
     "data": {
      "text/plain": [
       "Index(['id', 'title', 'excerpt', 'anonymousSchool', 'anonymousDepartment',\n",
       "       'pinned', 'forumId', 'replyId', 'createdAt', 'updatedAt',\n",
       "       'commentCount', 'likeCount', 'withNickname', 'tags', 'topics', 'meta',\n",
       "       'forumName', 'forumAlias', 'nsfw', 'gender', 'school', 'replyTitle',\n",
       "       'reportReason', 'mediaMeta', 'reactions', 'hidden', 'customStyle',\n",
       "       'isSuspiciousAccount', 'isModerator', 'layout', 'spoilerAlert',\n",
       "       'withImages', 'withVideos', 'media', 'reportReasonText', 'elapsedTime',\n",
       "       'excerptComments', 'postAvatar', 'verifiedBadge', 'memberType',\n",
       "       'categories', 'department', 'link'],\n",
       "      dtype='object')"
      ]
     },
     "metadata": {},
     "execution_count": 3
    }
   ],
   "source": [
    "import pandas as pd\n",
    "df = pd.DataFrame(data)\n",
    "df.columns"
   ]
  },
  {
   "cell_type": "code",
   "execution_count": 29,
   "metadata": {},
   "outputs": [
    {
     "output_type": "stream",
     "name": "stderr",
     "text": [
      "ipykernel_launcher:3: SettingWithCopyWarning: \nA value is trying to be set on a copy of a slice from a DataFrame.\nTry using .loc[row_indexer,col_indexer] = value instead\n\nSee the caveats in the documentation: https://pandas.pydata.org/pandas-docs/stable/user_guide/indexing.html#returning-a-view-versus-a-copy\n"
     ]
    },
    {
     "output_type": "execute_result",
     "data": {
      "text/plain": [
       "'2021-05-16 12:59:02'"
      ]
     },
     "metadata": {},
     "execution_count": 29
    }
   ],
   "source": [
    "from datetime import datetime\n",
    "df1 = df[['title','createdAt', 'media', 'categories', 'excerpt', 'topics']]\n",
    "df1['createdAt'] = pd.to_datetime(df1['createdAt'], format = '%Y-%m-%d %H:%M:%S' )\n",
    "max_date = df1['createdAt'][0]\n",
    "date_str = max_date.strftime(\"%Y-%m-%d %H:%M:%S\")\n",
    "date_str"
   ]
  },
  {
   "cell_type": "code",
   "execution_count": 6,
   "metadata": {},
   "outputs": [
    {
     "output_type": "execute_result",
     "data": {
      "text/plain": [
       "title                      object\n",
       "createdAt     datetime64[ns, UTC]\n",
       "media                      object\n",
       "categories                 object\n",
       "excerpt                    object\n",
       "topics                     object\n",
       "dtype: object"
      ]
     },
     "metadata": {},
     "execution_count": 6
    }
   ],
   "source": [
    "df1.dtypes"
   ]
  },
  {
   "cell_type": "code",
   "execution_count": 12,
   "metadata": {},
   "outputs": [],
   "source": [
    "df2 = df1.applymap(str)"
   ]
  },
  {
   "cell_type": "code",
   "execution_count": 41,
   "metadata": {},
   "outputs": [
    {
     "output_type": "stream",
     "name": "stdout",
     "text": [
      "(1, 'XR從口袋噴飛被車子輾過去', '2021-05-16 12:34:36.111000+00:00', \"[{'url': 'https://i.imgur.com/J6Wb4xi.jpg'}, {'url': 'https://i.imgur.com/jXSyZaW.jpg'}]\", 'nan', '請問還有救嗎嗚嗚嗚嗚，螢幕碎到爆但背面居然沒有損傷 這樣能修嗎嗚嗚', \"['iPhone', '求救文']\")\n(2, '#請益 在會議中使用HomePod mini', '2021-05-16 12:06:41.362000+00:00', '[]', \"['請益']\", '最近疫情越來越嚴重，待在家的時間越來越長，導致我很多會議都要改成線上的方式，因為不喜歡一直待著耳機，小弟我剛好想到HomePod mini既有音響也有麥克風，不知道能不能作為一個優良的會議工具使用呢🤔', \"['Apple', 'Homepodmini']\")\n(3, '#問 切換控制關不掉！！！', '2021-05-16 11:04:02.979000+00:00', '[]', \"['問']\", '家裡小弟弟應該是自己不小心去弄到切換控制的功能，要關閉的話需要按三下主畫面鍵，但他的主畫面鍵壞掉了！，已經爬過文了但都沒有看到其他辦法所以想請問有沒有人知道能怎麼處理 謝謝', '[]')\n(4, 'Apple Pencil不見怎麼辦？', '2021-05-16 10:03:37.602000+00:00', '[]', 'nan', '不知道被我塞到家裡的哪個角落了，今天要用的時候熊熊找不到，只知道尋找能找到iPhone IPad，不知道Apple Pencil有沒有類似的辦法找到？', '[]')\n(5, '#Watch Apple Watch錶帶分享', '2021-05-16 09:39:23.447000+00:00', \"[{'url': 'https://i.imgur.com/PUUimZ3.jpg'}, {'url': 'https://i.imgur.com/ZEf1oEL.jpg'}, {'url': 'https://i.imgur.com/V0Nandp.jpg'}, {'url': 'https://i.imgur.com/uuRbgp6.jpg'}]\", \"['Watch']\", '和大家分享最近買到很滿意的錶帶，滿意到想上來發文，當初在買S6的時候 銀色跟玫瑰金之間猶豫許久，後來選了玫瑰金，但之後在挑副廠錶帶的時候，我發現還是不及黑色跟銀色好搭配，所以有點小後悔\\U0001f972，找了好一陣子', \"['AppleWatch']\")\n(6, 'Apple store 請款時間', '2021-05-16 08:12:00.431000+00:00', '[]', 'nan', '如題，小弟我4/25號在官網購買ipad air 採分期，但到現在都還沒請款，請問是正常的嗎', '[]')\n(7, '#TV 請益apple tv 4k相關問題', '2021-05-16 07:57:23.064000+00:00', '[]', \"['TV']\", '各位好，小弟我因為換了租屋處，但沒有電視，想請問各位這樣apple tv 4k可以接上電腦螢幕觀看嗎？加上我有兩個HomePod做聲音輸出，所以好奇如果將apple tv 4k連接電腦螢幕後，將聲音用', \"['Apple', 'HomePod', 'AppleTV']\")\n(8, 'ios line照片傳不了', '2021-05-16 07:26:22.541000+00:00', \"[{'url': 'https://i.imgur.com/L1s4juh.jpg'}]\", 'nan', '有上網找過，說在設定那按允許所有照片就行，但我的畫面只有這樣，也沒有所有照片的選項，原本想說重新安裝結果也無法備份，求解，拿去手機行他們也說沒辦法只能等下次更新看可不可以..', \"['iPhone', 'LINE']\")\n(9, '#iPhone 發現新玩意兒（圖', '2021-05-16 05:46:51.884000+00:00', '[]', \"['iPhone']\", '剛剛心血來潮用水和肥皂稍微把手機和手機殼清理一下，結果，就進水了，看來是要過一下才能充電了（ ･᷄ὢ･᷅ ）', \"['iPhone', '充電']\")\n(10, '各位的台灣社交距離app有壞掉嗎？', '2021-05-16 04:17:54.439000+00:00', '[]', 'nan', '', \"['iPhone', 'COVID19']\")\n(11, '#iPhone 請教12軍規保護殼', '2021-05-16 03:55:02.673000+00:00', \"[{'url': 'https://i.imgur.com/yGBIL0d.jpg'}]\", \"['iPhone']\", '最近入手12也買了itskin透明保護殼，但是整個手感很油膩，本人手是乾性，還說每家的透明殼都是如此？以下圖示，不知道還有多少大大能推薦的好殼，這樣讓人拿到手機好像油油的，謝謝。Itskin 什麼都好', \"['iPhone', '手機殼', 'iphone12', '求救文', 'Apple']\")\n(12, '現在訂購Iphone會因為疫情延誤送達嗎？', '2021-05-16 03:51:25.724000+00:00', '[]', 'nan', '如題，我今天在官網訂購了iphone12，預定時間是20號到貨，但怕會不會因為疫情所以有所延遲，稍微爬了一下文，發現沒什麼人問這個問題，希望不要給人伸手牌的感覺', '[]')\n(13, '想問最近的IPhone 7 Plus   是不是有問題', '2021-05-16 03:50:37.808000+00:00', '[]', 'nan', '我和我同學有三個都是IPhone 7 plus，然後最近手機超長過熱（很恐怖的那種，打傳說、lol時甚至會掉幀率，我明白我們的手機已經舊了，畢竟是四五年以前的產品，現在的應用程式可能也對這老機負荷有點', \"['iPhone', 'Apple']\")\n(14, 'Switcheasy aero+', '2021-05-16 03:20:51.237000+00:00', \"[{'url': 'https://i.imgur.com/JwFBf4R.jpg'}]\", 'nan', '請問有帥哥美女買這個手機殼嗎？手感如何 MagSafe功能吸力強不強？或者還有什麼其他推薦的MagSafe 手機殼，主要是手感要好 我覺得手機殼手感很重要', \"['Apple', '手機殼推薦']\")\n(15, '請問我的Airpods是正貨嗎？', '2021-05-16 03:04:50.967000+00:00', \"[{'url': 'https://i.imgur.com/WSgq50l.jpg'}, {'url': 'https://i.imgur.com/CXcJzXh.jpg'}, {'url': 'https://i.imgur.com/P3RKOh7.jpg'}, {'url': 'https:/ ... (274 characters truncated) ... om/d4RBFzQ.jpg'}, {'url': 'https://i.imgur.com/OBFKMvh.jpg'}, {'url': 'https://i.imgur.com/vg3arLC.jpg'}, {'url': 'https://i.imgur.com/sHemsPq.jpg'}]\", 'nan', 'airpods來源是抽獎得到的！感覺是超高仿，———————————————————，上網查詢非常多關於辨別的文和影片，同樣測試都沒有問題，沒有任何怪處。機身總重量：45g 耳機：6g 充電盒：39g', \"['Apple', 'Airpods', '耳機', '蘋果', '高仿']\")\n(16, '12pro FaceTime截圖原況照片沒有出現在相簿. ios14.2.1', '2021-05-15 21:27:11.393000+00:00', '[]', 'nan', '如標題 我的iPhone 12pro 在講FaceTime視訊的時候截圖雙方的原況照片，螢幕有顯示已拍攝照片，但去相簿裡面看卻都沒有，但是對方的12pro卻有截圖的照片\\U0001f972，也確認過雙方設定的facet', \"['iPhone', 'Apple', 'iOS', '手機', 'iphone12']\")\n(17, '#Watch #請益 新手的一些問題', '2021-05-15 17:49:59.486000+00:00', \"[{'url': 'https://i.imgur.com/o1wBLa9.jpg'}]\", \"['Watch']\", '最近手錶不見了，想趁機換apple watch，有幾個問題想問一下\\u200d️，1.原本想去直營店購買，但聽同事說燦坤買蘋果商品有保險，自己也有查到，但之前去直營店買充電線時，線就有1～3年的保固了，照理講app', \"['新手', '問題', 'AppleWatch']\")\n(18, '#請益 Mac鍵盤突然只能打特殊符號', '2021-05-15 17:43:56.641000+00:00', \"[{'url': 'https://i.imgur.com/CBH7KcX.jpg'}, {'url': 'https://vivid.dcard.tw/Public/f9390ec0-2e71-4015-a3ab-f8b0846b1a2f/thumbnail.jpg'}]\", \"['請益']\", '先上圖！，常常鍵盤就會變成只能打這種符號，然後按回注音輸入法，也沒辦法打注音，會變全形英文，這個狀態的時候各種快捷鍵功能完全失效，來問問有沒有大神知道怎麼用\\U0001f972\\U0001f972\\U0001f972', \"['MacBook', '求救文', '詢問']\")\n(19, 'iPad官網出貨速度', '2021-05-15 16:48:43.555000+00:00', \"[{'url': 'https://i.imgur.com/tgMi8ko.jpg'}]\", 'nan', '想問一下最近有人也剛下訂的嗎 官網出貨真的都要等大約一個月才到嗎\\U0001f97a\\U0001f97a', \"['Apple', 'iPad']\")\n(20, '該不該入手MacBook pro M1？', '2021-05-15 15:49:02.202000+00:00', '[]', 'nan', '本身設計科系，會大量使用illustrator、photoshop，近期有在考慮學習使用剪輯軟體，爬了蠻多文章目標蠻明確要16GB/512GB SSD，原本都想要預計暑假趁BTS購買，但有很多人勸等M', \"['MacBookPro', 'Apple', 'M1']\")\n(21, 'Casetify 手機殼訂購教學✨', '2021-05-15 15:43:37.358000+00:00', \"[{'url': 'https://i.imgur.com/deOTZG1.png'}, {'url': 'https://i.imgur.com/JKSTeQh.png'}, {'url': 'https://i.imgur.com/BK2VHmb.jpg'}, {'url': 'https://i.imgur.com/udR3JTb.png'}, {'url': 'https://i.imgur.com/AC4uKId.png'}]\", 'nan', '原本就聽過這牌手機殼、ig也看到有很多人拿，後來完全是被這個系列燒到，超美的！真的是美呆了！，因為uag 雖然防摔但他那個外型我真的不行哈哈哈，給大家看看真實手感的樣子！而且他那個材質竟然是仿油畫！，', \"['iPhone', '教學', 'Apple', 'casetify', '手機殼']\")\n(22, '#請益 windows無法轉換Mac\\U0001f972', '2021-05-15 15:24:39.132000+00:00', '[]', \"['請益']\", '有沒有大神可以救我，之前筆電mac要轉windows就不行了，（本來應該是要按option），但怎麼按都沒反應 有在想是不是因為windows更新？所以不能轉了，但我從Mac設定那邊點一個就成功轉過來', \"['Apple', '筆電', 'MacBook']\")\n(23, '#iPad M1 iPad Pro講的故事前半段', '2021-05-15 15:15:49.746000+00:00', \"[{'url': 'https://i.imgur.com/9Iptyk3.jpg'}, {'url': 'https://i.imgur.com/58umfbR.jpg'}, {'url': 'https://i.imgur.com/gitaoLz.jpg'}]\", \"['iPad']\", '哈嚕鎮樓先～終於把工作的三份報告做結了，有時間發個廢文。還記得春季發表會的一個重點，搭載M1的iPad Pro亮相問世。嘛...當時我是說iPad Pro的M1會採降頻的版本，但後面流出的性能分數好像', \"['Apple', 'iPad', 'MacBook', '筆電', 'IPadpro']\")\n(24, '#iPhone iPhone 12 難開機', '2021-05-15 13:45:28.699000+00:00', '[]', \"['iPhone']\", '我用iPhone 12一陣子了，我的問題是開機難開長按很久都沒有反應，甚至要長按三次才會開，我還在想是不是壞了，大家有跟我一樣的問題嗎，要怎麼解決。', \"['iPhone', '問題', '開機']\")\n(25, '充電到80%就充不上去了', '2021-05-15 11:41:42.118000+00:00', '[]', 'nan', '有人的11這樣過嗎 最近這個時間點充完電，應該都要90幾 已經連續3天都80，我還有故意讓他繼續充 重開機一樣都80，還真有時間觀念 都是我下午5.多的時候發作：）', \"['iPhone', 'Apple']\")\n(26, 'PC主機能借用Macbook pro的螢幕跟鍵盤嗎？', '2021-05-15 11:22:03.616000+00:00', '[]', 'nan', '我要玩遊戲 只有支援windows系統，（現在網咖不能去了），朋友有一台PC主機能用，可以直接買線插上去用嗎？還是要安裝什麼東西之類的..？還是只能接螢幕 鍵盤還是要另外買', '[]')\n(27, '#iPhone Line更新到11.6.5後瘋狂閃退', '2021-05-15 11:16:08.537000+00:00', '[]', \"['iPhone']\", '自從我的i11（ios14）把line更新到11.6.5的版本後，慢慢出現一下問題。1.初期是會不定時閃退，10次有3.4次閃退。2.中期在閃退出去後再次打開line會停留在line那個綠綠畫面大概5', \"['iPhone', 'LINE', '問題']\")\n(28, '6s用itunes更新失敗', '2021-05-15 07:45:20.567000+00:00', \"[{'url': 'https://i.imgur.com/TYC5Put.jpg'}, {'url': 'https://i.imgur.com/tbdirZJ.jpg'}]\", 'nan', '嗨大家，目前使用的6s版本停留在12.1，因為很多app都無法下載，所以想更新到13.7的版本。我用itunes先將手機備份（手機開熱點給mac連網），事先下載13.7的更新檔，之後用alt+更新的方', \"['Apple', 'iPhone', '求救文', 'iOS']\")\n(29, '#請益 AirPods用濕紙巾擦完後竟然…', '2021-05-15 06:53:29.388000+00:00', \"[{'url': 'https://i.imgur.com/Rm5gVdx.jpg'}]\", \"['請益']\", '有一天心血來潮想清一下AirPods，就用含有酒精的濕紙巾擦（想說比較乾淨），結果擦完之後變，感覺是掉漆？這樣是正常的現象嗎（￣Д￣）ﾉ', \"['Airpods']\")\n"
     ]
    }
   ],
   "source": [
    "from sqlalchemy import create_engine\n",
    "\n",
    "engine = create_engine('sqlite://', echo=False)\n",
    "df2.to_sql('users', con=engine, if_exists='append')\n",
    "with engine.connect() as connection:\n",
    "    result = connection.execute(\"SELECT * FROM users where createdAt < ?\",  date_str)\n",
    "    for r in result.fetchall():\n",
    "        print(r)\n",
    "# engine.execute(\"SELECT * FROM users where createdAt > '2021-05-16 12:59:02'\").fetchall()"
   ]
  },
  {
   "cell_type": "code",
   "execution_count": 18,
   "metadata": {},
   "outputs": [
    {
     "output_type": "execute_result",
     "data": {
      "text/plain": [
       "30"
      ]
     },
     "metadata": {},
     "execution_count": 18
    }
   ],
   "source": [
    "len(df2)"
   ]
  },
  {
   "cell_type": "code",
   "execution_count": 129,
   "metadata": {},
   "outputs": [
    {
     "output_type": "stream",
     "name": "stderr",
     "text": [
      "2021-05-17 23:32:12,948 WARNING Protocol problem: connection reset\n",
      "2021-05-17 23:32:12,954 ERROR Error message\n"
     ]
    }
   ],
   "source": [
    "import logging\n",
    "from imp import reload \n",
    "reload(logging)\n",
    "FORMAT = '%(asctime)s %(levelname)s %(message)s'\n",
    "logging.basicConfig(format=FORMAT)\n",
    "# logging.basicConfig(format='%(asctime)s %(levelname)s %(message)s')\n",
    "    #   filename='./myapp.log',\n",
    "    #   filemode='w')\n",
    "\n",
    "logging.debug(\"Debug message\")\n",
    "logging.info(\"Informative message\")\n",
    "logging.warning('Protocol problem: %s', 'connection reset')\n",
    "logging.error(\"Error message\")"
   ]
  },
  {
   "cell_type": "code",
   "execution_count": null,
   "metadata": {},
   "outputs": [],
   "source": [
    "## 標題, 發文時間, Media URL, `categories`, 內容, `topics`\n",
    "title = []\n",
    "time = []\n",
    "mediaURL = []\n",
    "categories = []\n",
    "topics = []\n",
    "content = []\n",
    "for num in range(len(data)):\n",
    "    title.append(data[num]['title'])\n",
    "    time.append(data[num]['createdAt'])\n",
    "    topics.append(data[num]['topics'])\n",
    "    content.append(data[num]['excerpt'])\n",
    "    for url_num in range(len(data[num]['media'])):\n",
    "        mediaURL.append(data[num]['media'][url_num]['url'])\n",
    "        # print(data[num]['mediaMeta'][url_num]['url'])\n",
    "    if \"categories\" in data[num]:\n",
    "        categories.append(data[num][\"categories\"][0])\n",
    "    else:\n",
    "        categories.append(\"NA\")\n"
   ]
  },
  {
   "cell_type": "code",
   "execution_count": 100,
   "metadata": {},
   "outputs": [
    {
     "output_type": "execute_result",
     "data": {
      "text/plain": [
       "37"
      ]
     },
     "metadata": {},
     "execution_count": 100
    }
   ],
   "source": [
    "len(mediaURL)"
   ]
  },
  {
   "cell_type": "code",
   "execution_count": null,
   "metadata": {},
   "outputs": [],
   "source": []
  }
 ]
}